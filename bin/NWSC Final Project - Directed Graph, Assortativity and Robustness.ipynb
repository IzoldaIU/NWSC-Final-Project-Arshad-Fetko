{
 "cells": [
  {
   "cell_type": "code",
   "execution_count": 1,
   "metadata": {},
   "outputs": [],
   "source": [
    "#\n",
    "#Network Science - Air Traffic Data Preparation\n",
    "#\n",
    "\n",
    "import pandas as pd\n",
    "import matplotlib.pyplot as plt\n",
    "import datetime\n",
    "from datetime import datetime\n",
    "import seaborn as sns\n",
    "import numpy as np\n",
    "import csv\n",
    "import pandas as pd\n",
    "%matplotlib inline\n",
    "import networkx as nx\n",
    "from statistics import mean\n",
    "from matplotlib.colors import Normalize, LinearSegmentedColormap, PowerNorm\n",
    "from wordcloud import WordCloud\n"
   ]
  },
  {
   "cell_type": "code",
   "execution_count": 2,
   "metadata": {},
   "outputs": [
    {
     "data": {
      "text/html": [
       "<div>\n",
       "<style scoped>\n",
       "    .dataframe tbody tr th:only-of-type {\n",
       "        vertical-align: middle;\n",
       "    }\n",
       "\n",
       "    .dataframe tbody tr th {\n",
       "        vertical-align: top;\n",
       "    }\n",
       "\n",
       "    .dataframe thead th {\n",
       "        text-align: right;\n",
       "    }\n",
       "</style>\n",
       "<table border=\"1\" class=\"dataframe\">\n",
       "  <thead>\n",
       "    <tr style=\"text-align: right;\">\n",
       "      <th></th>\n",
       "      <th>Airline</th>\n",
       "      <th>Airline_ID</th>\n",
       "      <th>Source_Airport</th>\n",
       "      <th>Source_Airport_ID</th>\n",
       "      <th>Dest_Airport</th>\n",
       "      <th>Dest_Airport_ID</th>\n",
       "      <th>Codeshare</th>\n",
       "      <th>Stops</th>\n",
       "      <th>Equipment</th>\n",
       "    </tr>\n",
       "  </thead>\n",
       "  <tbody>\n",
       "    <tr>\n",
       "      <th>0</th>\n",
       "      <td>2B</td>\n",
       "      <td>410</td>\n",
       "      <td>AER</td>\n",
       "      <td>2965</td>\n",
       "      <td>KZN</td>\n",
       "      <td>2990</td>\n",
       "      <td>NaN</td>\n",
       "      <td>0</td>\n",
       "      <td>CR2</td>\n",
       "    </tr>\n",
       "    <tr>\n",
       "      <th>1</th>\n",
       "      <td>2B</td>\n",
       "      <td>410</td>\n",
       "      <td>ASF</td>\n",
       "      <td>2966</td>\n",
       "      <td>KZN</td>\n",
       "      <td>2990</td>\n",
       "      <td>NaN</td>\n",
       "      <td>0</td>\n",
       "      <td>CR2</td>\n",
       "    </tr>\n",
       "    <tr>\n",
       "      <th>2</th>\n",
       "      <td>2B</td>\n",
       "      <td>410</td>\n",
       "      <td>ASF</td>\n",
       "      <td>2966</td>\n",
       "      <td>MRV</td>\n",
       "      <td>2962</td>\n",
       "      <td>NaN</td>\n",
       "      <td>0</td>\n",
       "      <td>CR2</td>\n",
       "    </tr>\n",
       "    <tr>\n",
       "      <th>3</th>\n",
       "      <td>2B</td>\n",
       "      <td>410</td>\n",
       "      <td>CEK</td>\n",
       "      <td>2968</td>\n",
       "      <td>KZN</td>\n",
       "      <td>2990</td>\n",
       "      <td>NaN</td>\n",
       "      <td>0</td>\n",
       "      <td>CR2</td>\n",
       "    </tr>\n",
       "    <tr>\n",
       "      <th>4</th>\n",
       "      <td>2B</td>\n",
       "      <td>410</td>\n",
       "      <td>CEK</td>\n",
       "      <td>2968</td>\n",
       "      <td>OVB</td>\n",
       "      <td>4078</td>\n",
       "      <td>NaN</td>\n",
       "      <td>0</td>\n",
       "      <td>CR2</td>\n",
       "    </tr>\n",
       "  </tbody>\n",
       "</table>\n",
       "</div>"
      ],
      "text/plain": [
       "  Airline Airline_ID Source_Airport Source_Airport_ID Dest_Airport  \\\n",
       "0      2B        410            AER              2965          KZN   \n",
       "1      2B        410            ASF              2966          KZN   \n",
       "2      2B        410            ASF              2966          MRV   \n",
       "3      2B        410            CEK              2968          KZN   \n",
       "4      2B        410            CEK              2968          OVB   \n",
       "\n",
       "  Dest_Airport_ID Codeshare  Stops Equipment  \n",
       "0            2990       NaN      0       CR2  \n",
       "1            2990       NaN      0       CR2  \n",
       "2            2962       NaN      0       CR2  \n",
       "3            2990       NaN      0       CR2  \n",
       "4            4078       NaN      0       CR2  "
      ]
     },
     "execution_count": 2,
     "metadata": {},
     "output_type": "execute_result"
    }
   ],
   "source": [
    "# please note that I am using my husbands old computer for school purposes. His name is Justin.\n",
    "routes_headers = ['Airline', 'Airline_ID', 'Source_Airport', 'Source_Airport_ID', 'Dest_Airport', 'Dest_Airport_ID', 'Codeshare', 'Stops', 'Equipment']\n",
    "routes_df = pd.read_csv(r\"C:\\Users\\Justin\\Dropbox\\IU\\INFO I606 NETWORK SCIENCE\\Final Project\\ProjectDataSet\\ProjectDataSet\\InputData_RawData\\routes.dat\", header=None, names = routes_headers)\n",
    "routes_df.head()"
   ]
  },
  {
   "cell_type": "code",
   "execution_count": 3,
   "metadata": {},
   "outputs": [],
   "source": [
    "routes_df['Source_Airport ID'] = pd.to_numeric(routes_df['Source_Airport_ID'].astype(str), 'coerce')\n",
    "routes_df['Dest Airport_ID'] = pd.to_numeric(routes_df['Dest_Airport_ID'].astype(str), 'coerce')\n",
    "routes_df = routes_df.dropna(subset=[\"Source_Airport_ID\", \"Dest_Airport_ID\"])"
   ]
  },
  {
   "cell_type": "code",
   "execution_count": 4,
   "metadata": {},
   "outputs": [],
   "source": [
    "routes_df =  pd.DataFrame(routes_df.groupby(['Source_Airport', 'Dest_Airport']).size().reset_index(name='flight_counts'))"
   ]
  },
  {
   "cell_type": "code",
   "execution_count": 5,
   "metadata": {},
   "outputs": [],
   "source": [
    "# create counts variable to use as the graph egde attribute\n",
    "flight_counts = routes_df['Source_Airport'].append(routes_df.loc[routes_df['Source_Airport'] != routes_df['Dest_Airport'], 'Dest_Airport']).value_counts()\n",
    "\n",
    "flight_counts = pd.DataFrame({'IATA': flight_counts.index, 'total_flight': flight_counts})\n"
   ]
  },
  {
   "cell_type": "code",
   "execution_count": 7,
   "metadata": {},
   "outputs": [],
   "source": [
    "# Create directed graph\n",
    "G = nx.from_pandas_edgelist(routes_df, source = 'Source_Airport', target = 'Dest_Airport', edge_attr = 'flight_counts',create_using = nx.DiGraph())"
   ]
  },
  {
   "cell_type": "code",
   "execution_count": 8,
   "metadata": {},
   "outputs": [
    {
     "name": "stdout",
     "output_type": "stream",
     "text": [
      "Name: \n",
      "Type: DiGraph\n",
      "Number of nodes: 3425\n",
      "Number of edges: 37595\n",
      "Average in degree:  10.9766\n",
      "Average out degree:  10.9766\n"
     ]
    }
   ],
   "source": [
    "print(nx.info(G))"
   ]
  },
  {
   "cell_type": "code",
   "execution_count": 9,
   "metadata": {},
   "outputs": [
    {
     "data": {
      "image/png": "[encoded data removed]",
      "text/plain": [
       "<Figure size 720x648 with 1 Axes>"
      ]
     },
     "metadata": {},
     "output_type": "display_data"
    }
   ],
   "source": [
    "#plot the graph\n",
    "plt.figure(figsize = (10,9))\n",
    "nx.draw_networkx(G)"
   ]
  },
  {
   "cell_type": "code",
   "execution_count": 10,
   "metadata": {},
   "outputs": [
    {
     "name": "stdout",
     "output_type": "stream",
     "text": [
      "Network density: 0.003206\n"
     ]
    }
   ],
   "source": [
    "density = nx.density(G)\n",
    "print(\"Network density:\", round(density, 6))"
   ]
  },
  {
   "cell_type": "code",
   "execution_count": 11,
   "metadata": {},
   "outputs": [
    {
     "name": "stdout",
     "output_type": "stream",
     "text": [
      "Average Degree Centrality of the graph:  0.006412\n"
     ]
    }
   ],
   "source": [
    "degree_centrality = nx.degree_centrality(G)\n",
    "# average degree centrality of the graph\n",
    "count = 0\n",
    "_sum = 0\n",
    "for key in degree_centrality:\n",
    "    count += 1\n",
    "    _sum += degree_centrality[key]\n",
    "\n",
    "print('Average Degree Centrality of the graph: ', round(_sum/count, 6))"
   ]
  },
  {
   "cell_type": "code",
   "execution_count": 12,
   "metadata": {},
   "outputs": [
    {
     "name": "stdout",
     "output_type": "stream",
     "text": [
      "Average Eigenvector Centrality of the graph:  0.006084\n"
     ]
    }
   ],
   "source": [
    "# Get the eigenvector centralities for all the nodes\n",
    "ev_centralities = nx.eigenvector_centrality(G)\n",
    "# average eigenvector centrality of the graph\n",
    "count_ev = 0\n",
    "sum_ev = 0\n",
    "for key in ev_centralities:\n",
    "    count_ev += 1\n",
    "    sum_ev += ev_centralities[key]\n",
    "\n",
    "print('Average Eigenvector Centrality of the graph: ', round(sum_ev/count_ev,6))"
   ]
  },
  {
   "cell_type": "code",
   "execution_count": 13,
   "metadata": {},
   "outputs": [
    {
     "name": "stdout",
     "output_type": "stream",
     "text": [
      "Average Clustering Coefficient of the Graph: 0.487093\n"
     ]
    }
   ],
   "source": [
    "G_undirected = nx.Graph(G)\n",
    "# average coustering coefficient of the graph\n",
    "print(\"Average Clustering Coefficient of the Graph:\", round(nx.average_clustering(G_undirected),6))"
   ]
  },
  {
   "cell_type": "code",
   "execution_count": 14,
   "metadata": {},
   "outputs": [],
   "source": [
    "betweenness_centrality = nx.betweenness_centrality(G, k=None, normalized=True, weight=None, endpoints=False, seed=None)"
   ]
  },
  {
   "cell_type": "code",
   "execution_count": 15,
   "metadata": {},
   "outputs": [
    {
     "name": "stdout",
     "output_type": "stream",
     "text": [
      "Average Betweenness Centrality of the graph:  0.0009\n"
     ]
    }
   ],
   "source": [
    "# average betweenness centrality of the graph\n",
    "count_bt = 0\n",
    "sum_bt = 0\n",
    "for key in betweenness_centrality:\n",
    "    count_bt += 1\n",
    "    sum_bt += betweenness_centrality[key]\n",
    "\n",
    "print('Average Betweenness Centrality of the graph: ', round(sum_bt/count_bt, 4))"
   ]
  },
  {
   "cell_type": "code",
   "execution_count": 16,
   "metadata": {},
   "outputs": [],
   "source": [
    "# shortest path between Atlanta and Dalanzadgad Airport in Mongolia\n",
    "atl_to_dlz = nx.shortest_path(G, source = 'ATL', target = 'DLZ')"
   ]
  },
  {
   "cell_type": "code",
   "execution_count": 17,
   "metadata": {},
   "outputs": [
    {
     "name": "stdout",
     "output_type": "stream",
     "text": [
      "The shortest path between two airports is: ['ATL', 'ICN', 'ULN', 'DLZ']\n"
     ]
    }
   ],
   "source": [
    "print(\"The shortest path between two airports is:\", atl_to_dlz)"
   ]
  },
  {
   "cell_type": "code",
   "execution_count": 18,
   "metadata": {},
   "outputs": [
    {
     "name": "stdout",
     "output_type": "stream",
     "text": [
      "3\n"
     ]
    }
   ],
   "source": [
    "# lenght of the shortest path, exluding the source airport\n",
    "print(len(atl_to_dlz)-1)"
   ]
  },
  {
   "cell_type": "code",
   "execution_count": 19,
   "metadata": {},
   "outputs": [
    {
     "data": {
      "image/png": "[encoded data removed]",
      "text/plain": [
       "<Figure size 432x288 with 1 Axes>"
      ]
     },
     "metadata": {},
     "output_type": "display_data"
    }
   ],
   "source": [
    "plt.hist(nx.degree_histogram(G), bins= 20)\n",
    "plt.title(\"Degree Distribution\")\n",
    "plt.xlabel(\"Degree\")\n",
    "plt.ylabel(\"Frequency\")\n",
    "plt.show()"
   ]
  },
  {
   "cell_type": "markdown",
   "metadata": {},
   "source": [
    "### Assortativity "
   ]
  },
  {
   "cell_type": "code",
   "execution_count": 20,
   "metadata": {},
   "outputs": [
    {
     "name": "stdout",
     "output_type": "stream",
     "text": [
      "-0.00644091555309\n"
     ]
    }
   ],
   "source": [
    "# checking assorativity measure\n",
    "#  The network is disassortative.\n",
    "real_assortativity = nx.degree_assortativity_coefficient(G_undirected)\n",
    "print(real_assortativity)"
   ]
  },
  {
   "cell_type": "markdown",
   "metadata": {},
   "source": [
    "There happens to be a similarity measure called assortativity where nodes of a certain type tend to be connected to nodes of the same type. In networkx there is a function called degree assortativity which tells us how strongly nodes of similar degree are attached to each other. If the network has high degree assortativity, then low degree nodes will be connected to other low degree nodes, and high degree nodes will be connected to other high degree nodes. Conversely, low degree assortativity (or even disassortativity) would imply no (or negative) relationship."
   ]
  },
  {
   "cell_type": "code",
   "execution_count": 21,
   "metadata": {},
   "outputs": [],
   "source": [
    "air_degree_sequence = list(dict(nx.degree(G_undirected)).values())\n",
    "\n",
    "model_assortativity = []\n",
    "for i in range(1000):\n",
    "    # Use the configuration model to create a null graph\n",
    "    null_graph = nx.configuration_model(air_degree_sequence)\n",
    "    \n",
    "    # We need to remove self-loops and parallel edges because they don't make\n",
    "    # sense in this social network\n",
    "    null_graph = nx.Graph(null_graph) # removes parallel edges\n",
    "    null_graph.remove_edges_from(null_graph.selfloop_edges()) # removes self-loops\n",
    "    \n",
    "    # Calculate the model's assortativity and add it to the list\n",
    "    model_assortativity.append(nx.degree_assortativity_coefficient(null_graph))"
   ]
  },
  {
   "cell_type": "code",
   "execution_count": 22,
   "metadata": {},
   "outputs": [
    {
     "name": "stdout",
     "output_type": "stream",
     "text": [
      "6.32133753542\n"
     ]
    }
   ],
   "source": [
    "# Prepend the real assortativity to the model list and have scipy calculate the zscores\n",
    "import scipy.stats as stats\n",
    "zscores = stats.zscore([real_assortativity] + model_assortativity)\n",
    "\n",
    "# Just print out the first score which corresponds to the real network\n",
    "print(zscores[0])"
   ]
  },
  {
   "cell_type": "code",
   "execution_count": 23,
   "metadata": {},
   "outputs": [
    {
     "data": {
      "image/png": "[encoded data removed]",
      "text/plain": [
       "<Figure size 432x288 with 1 Axes>"
      ]
     },
     "metadata": {},
     "output_type": "display_data"
    }
   ],
   "source": [
    "%matplotlib inline\n",
    "import matplotlib.pyplot as plt\n",
    "\n",
    "# Use the histogram function to plot the distribution of assortativity coefficients\n",
    "plt.hist(model_assortativity, bins=50)\n",
    "\n",
    "# axvline produces a vertical line at the designated x position on the graph\n",
    "plt.axvline(real_assortativity, lw=2, color=\"red\") #lw = 2 makes the line thicker\n",
    "plt.show()"
   ]
  },
  {
   "cell_type": "markdown",
   "metadata": {},
   "source": [
    "A z-score corresponds to how many standard deviations out from the mean the sample is. A score of +1 would be one standard deviation above the mean. Since the score is close to zero we can safely conclude that the disassortativity we observed in the air traffic network is explainable entirely from the degree sequence and no other special properties of the network."
   ]
  },
  {
   "cell_type": "markdown",
   "metadata": {},
   "source": [
    "### Robustness"
   ]
  },
  {
   "cell_type": "code",
   "execution_count": 24,
   "metadata": {},
   "outputs": [],
   "source": [
    "def random_removal(graph, remove_frac):\n",
    "    \n",
    "    # copy of the graph that we can work on\n",
    "    graph = graph.copy()\n",
    "    \n",
    "    # size of the largest graph component\n",
    "    initial_largest = len(max(nx.connected_component_subgraphs(graph), key=len))\n",
    "    \n",
    "    # remove nodes\n",
    "    graph.remove_nodes_from(np.random.choice(graph.nodes(), size=int(remove_frac), replace=False))\n",
    "\n",
    "    if len(graph) > 0:\n",
    "        relative_size_of_largest = len(max(nx.connected_component_subgraphs(graph), key=len)) / initial_largest\n",
    "    else:\n",
    "        relative_size_of_largest = 0.0\n",
    "        \n",
    "    return relative_size_of_largest"
   ]
  },
  {
   "cell_type": "code",
   "execution_count": 25,
   "metadata": {},
   "outputs": [],
   "source": [
    "def targeted_removal(graph, remove_frac):\n",
    "    # copy the graph\n",
    "    graph = graph.copy()\n",
    "\n",
    "    # again get the largest component of the graph\n",
    "    initial_largest = len(max(nx.connected_component_subgraphs(graph), key=len))\n",
    "    \n",
    "    # sort nodes by top degree\n",
    "    top_degree = sorted(graph.degree(), key=lambda x:x[1], reverse = True)\n",
    "    #print(top_degree)\n",
    "    # prep the list of nodes to remove from graph\n",
    "    top_nodes=[item[0] for item in top_degree][0:remove_frac]\n",
    "    # remove nodes\n",
    "    graph.remove_nodes_from(top_nodes)\n",
    "\n",
    "    #print(graph.number_of_nodes())\n",
    "    #print(nx.connected_component_subgraphs(graph))\n",
    "    \n",
    "    if len(graph)> 0:\n",
    "        \n",
    "        relative_size_of_largest = len(max(nx.connected_component_subgraphs(graph), key=len))/ initial_largest\n",
    "        \n",
    "    else: \n",
    "        relative_size_of_largest = 0.0\n",
    "        \n",
    "    return relative_size_of_largest\n"
   ]
  },
  {
   "cell_type": "code",
   "execution_count": 26,
   "metadata": {},
   "outputs": [
    {
     "name": "stdout",
     "output_type": "stream",
     "text": [
      "range(0, 3000, 200)\n"
     ]
    }
   ],
   "source": [
    "# number of nodes to remove and at which intervals - 3000 nodes at intervals at 200 because the graph is large\n",
    "nodes_to_remove = range(0, 3000, 200)\n",
    "print(nodes_to_remove)"
   ]
  },
  {
   "cell_type": "code",
   "execution_count": 27,
   "metadata": {},
   "outputs": [],
   "source": [
    "# get the largest component of the undirected graph\n",
    "G_largest = max(nx.connected_component_subgraphs(G_undirected), key=len)"
   ]
  },
  {
   "cell_type": "code",
   "execution_count": 28,
   "metadata": {},
   "outputs": [
    {
     "name": "stdout",
     "output_type": "stream",
     "text": [
      "Name: \n",
      "Type: Graph\n",
      "Number of nodes: 3397\n",
      "Number of edges: 19231\n",
      "Average degree:  11.3223\n"
     ]
    }
   ],
   "source": [
    "print(nx.info(G_largest))"
   ]
  },
  {
   "cell_type": "code",
   "execution_count": 29,
   "metadata": {},
   "outputs": [
    {
     "name": "stdout",
     "output_type": "stream",
     "text": [
      "Name: \n",
      "Type: Graph\n",
      "Number of nodes: 3397\n",
      "Number of edges: 17315\n",
      "Average degree:  10.1943\n"
     ]
    }
   ],
   "source": [
    "# create a random graph for comparison purposes\n",
    "random_graph = nx.erdos_renyi_graph(3397, 0.003)\n",
    "print(nx.info(random_graph))"
   ]
  },
  {
   "cell_type": "code",
   "execution_count": 30,
   "metadata": {},
   "outputs": [],
   "source": [
    "# random removal on the G_largest graph; based on the list \"nodes to remove\" that we created\n",
    "random_on_real = np.array([random_removal(G_largest, frac) for frac in nodes_to_remove])\n",
    "\n",
    "# random removal on the random graph\n",
    "random_on_rand = np.array([random_removal(random_graph, frac) for frac in nodes_to_remove])\n",
    "\n",
    "# targeted removal on G_largest graph\n",
    "targeted_on_real = np.array([targeted_removal(G_largest, frac) for frac in nodes_to_remove])\n",
    "\n",
    "# targeted removal on random graph\n",
    "targeted_on_rand = np.array([targeted_removal(random_graph, frac) for frac in nodes_to_remove])"
   ]
  },
  {
   "cell_type": "code",
   "execution_count": 31,
   "metadata": {},
   "outputs": [
    {
     "name": "stdout",
     "output_type": "stream",
     "text": [
      "[  1.00000000e+00   6.74124227e-01   1.08036503e-01   3.29702679e-02\n",
      "   1.50132470e-02   5.88754784e-03   3.82690609e-03   3.53252870e-03\n",
      "   2.35501913e-03   2.35501913e-03   1.47188696e-03   1.47188696e-03\n",
      "   1.17750957e-03   2.94377392e-04   2.94377392e-04]\n"
     ]
    }
   ],
   "source": [
    "print(targeted_on_real)"
   ]
  },
  {
   "cell_type": "code",
   "execution_count": 35,
   "metadata": {},
   "outputs": [],
   "source": [
    "#compute the value for which the largest connected component drops below 1%\n",
    "#random_on_real_critical_index = np.where(random_on_real < 0.1)\n",
    "#random_on_rand_critical_index = np.where(random_on_rand < 0.1)\n",
    "#targeted_on_real_graph_critical_index = np.where(targeted_on_real < 0.1)\n",
    "#targeted_on_rand_graph_critical_index = np.where(targeted_on_rand < 0.1)"
   ]
  },
  {
   "cell_type": "code",
   "execution_count": 36,
   "metadata": {},
   "outputs": [
    {
     "name": "stdout",
     "output_type": "stream",
     "text": [
      "(array([14], dtype=int64),)\n"
     ]
    }
   ],
   "source": [
    "#print(random_on_real_critical_index)\n",
    "#print(random_on_real)\n",
    "#print(targeted_on_rand)"
   ]
  },
  {
   "cell_type": "code",
   "execution_count": 38,
   "metadata": {},
   "outputs": [
    {
     "data": {
      "text/plain": [
       "Text(0.5,0,'Removed Nodes')"
      ]
     },
     "execution_count": 38,
     "metadata": {},
     "output_type": "execute_result"
    },
    {
     "data": {
      "image/png": "[encoded data removed]",
      "text/plain": [
       "<Figure size 432x288 with 1 Axes>"
      ]
     },
     "metadata": {},
     "output_type": "display_data"
    }
   ],
   "source": [
    "plt.plot(nodes_to_remove, random_on_real, color = 'blue', ls='-', label ='rand real')\n",
    "plt.plot(nodes_to_remove, random_on_rand, color = 'red', ls='-', label ='rand rand')\n",
    "plt.plot(nodes_to_remove, targeted_on_real, color = 'blue', ls='--', label ='tar real')\n",
    "plt.plot(nodes_to_remove, targeted_on_rand, color = 'red', ls='--', label ='tar rand')\n",
    "plt.legend(loc=\"upper right\")\n",
    "plt.title('Targeted and Random Removal Comparison')\n",
    "plt.xlabel('Removed Nodes')"
   ]
  },
  {
   "cell_type": "markdown",
   "metadata": {},
   "source": [
    "The real graph under random removal is fairly robust, a little less robust than the random graph. The targeted removal for our real graph shows that it is not very robust compared to the random graph. It looses most of its structure when we remove less than 500 nodes, while the random graph doesn't have that steep drop  after the first 500 nodes removed."
   ]
  },
  {
   "cell_type": "code",
   "execution_count": null,
   "metadata": {},
   "outputs": [],
   "source": []
  }
 ],
 "metadata": {
  "kernelspec": {
   "display_name": "Python 3",
   "language": "python",
   "name": "python3"
  },
  "language_info": {
   "codemirror_mode": {
    "name": "ipython",
    "version": 3
   },
   "file_extension": ".py",
   "mimetype": "text/x-python",
   "name": "python",
   "nbconvert_exporter": "python",
   "pygments_lexer": "ipython3",
   "version": "3.6.6"
  }
 },
 "nbformat": 4,
 "nbformat_minor": 2
}
